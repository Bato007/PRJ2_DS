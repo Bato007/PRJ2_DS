{
 "cells": [
  {
   "cell_type": "code",
   "execution_count": null,
   "metadata": {},
   "outputs": [],
   "source": [
    "import numpy as np\n",
    "import pandas as pd"
   ]
  },
  {
   "cell_type": "code",
   "execution_count": null,
   "metadata": {},
   "outputs": [],
   "source": [
    "'''\n",
    "  id - The image ID.\n",
    "  organ - The organ that the biopsy sample was taken from.\n",
    "  data_source - Whether the image was provided by HuBMAP or HPA.\n",
    "  img_height - The height of the image in pixels.\n",
    "  img_width - The width of the image in pixels.\n",
    "  pixel_size - The height/width of a single pixel from this image in micrometers. \n",
    "    All HPA images have a pixel size of 0.4 µm. For HuBMAP imagery the pixel size is 0.5 µm for kidney,\n",
    "    0.2290 µm for large intestine, 0.7562 µm for lung, 0.4945    for spleen, and 6.263 µm for prostate.\n",
    "  tissue_thickness - The thickness of the biopsy sample in micrometers. All HPA images have a thickness of 4 µm.\n",
    "    The HuBMAP samples have tissue slice thicknesses 10 µm for kidney, 8 µm for large intestine, 4 µm for spleen,\n",
    "    5 µm for lung, and 5 µm for prostate.\n",
    "  rle - The target column. A run length encoded copy of the annotations. Provided for the training set only.\n",
    "  age - The patient's age in years. Provided for the training set only.\n",
    "  sex - The sex of the patient. Provided for the training set only.\n",
    "'''\n",
    "train = pd.read_csv('./train.csv', encoding='utf8')"
   ]
  },
  {
   "cell_type": "markdown",
   "metadata": {},
   "source": [
    "# Descripcion baga de los datos"
   ]
  },
  {
   "cell_type": "code",
   "execution_count": null,
   "metadata": {},
   "outputs": [],
   "source": [
    "train.describe()"
   ]
  },
  {
   "cell_type": "code",
   "execution_count": null,
   "metadata": {},
   "outputs": [],
   "source": [
    "__quant = list(train.describe().columns)\n",
    "\n",
    "for variable in train.columns:\n",
    "  if (variable in __quant or variable == 'rle'): continue\n",
    "  print(train[variable].unique())\n"
   ]
  },
  {
   "cell_type": "markdown",
   "metadata": {},
   "source": [
    "# Analisis Exploratorio"
   ]
  }
 ],
 "metadata": {
  "kernelspec": {
   "display_name": "Python 3.10.4 64-bit",
   "language": "python",
   "name": "python3"
  },
  "language_info": {
   "codemirror_mode": {
    "name": "ipython",
    "version": 3
   },
   "file_extension": ".py",
   "mimetype": "text/x-python",
   "name": "python",
   "nbconvert_exporter": "python",
   "pygments_lexer": "ipython3",
   "version": "3.10.4"
  },
  "orig_nbformat": 4,
  "vscode": {
   "interpreter": {
    "hash": "0a8e74bc410295dd7b3e2a92a04bda485b935e7c35103812674b9cdd1b25ea1a"
   }
  }
 },
 "nbformat": 4,
 "nbformat_minor": 2
}
